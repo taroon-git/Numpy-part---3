{
 "cells": [
  {
   "cell_type": "markdown",
   "id": "b721be22-2932-4e96-94b3-52d1629b135b",
   "metadata": {},
   "source": [
    " # Sort, Search & Counting Functions"
   ]
  },
  {
   "cell_type": "code",
   "execution_count": 1,
   "id": "1c325eac-13e5-4640-9251-3ccb26082951",
   "metadata": {},
   "outputs": [],
   "source": [
    "import numpy as np"
   ]
  },
  {
   "cell_type": "code",
   "execution_count": 3,
   "id": "48320194-7d3c-4a6d-b41f-ab2ac1a76a16",
   "metadata": {},
   "outputs": [],
   "source": [
    "arr = np.array([4,3,34,5,4,3,3,5,6,89])"
   ]
  },
  {
   "cell_type": "code",
   "execution_count": 4,
   "id": "11849338-0eae-4090-b98d-63aba07f81e5",
   "metadata": {},
   "outputs": [
    {
     "data": {
      "text/plain": [
       "array([ 4,  3, 34,  5,  4,  3,  3,  5,  6, 89])"
      ]
     },
     "execution_count": 4,
     "metadata": {},
     "output_type": "execute_result"
    }
   ],
   "source": [
    "arr"
   ]
  },
  {
   "cell_type": "code",
   "execution_count": 5,
   "id": "622686eb-9201-41f7-b763-c631b219ed88",
   "metadata": {},
   "outputs": [
    {
     "data": {
      "text/plain": [
       "array([ 3,  3,  3,  4,  4,  5,  5,  6, 34, 89])"
      ]
     },
     "execution_count": 5,
     "metadata": {},
     "output_type": "execute_result"
    }
   ],
   "source": [
    "np.sort(arr)"
   ]
  },
  {
   "cell_type": "code",
   "execution_count": 6,
   "id": "30518cca-dd68-4e52-b8c3-5d8ecaa3cd0a",
   "metadata": {},
   "outputs": [
    {
     "data": {
      "text/plain": [
       "9"
      ]
     },
     "execution_count": 6,
     "metadata": {},
     "output_type": "execute_result"
    }
   ],
   "source": [
    "np.searchsorted(arr,34)"
   ]
  },
  {
   "cell_type": "code",
   "execution_count": 8,
   "id": "c1403956-7c11-4fdc-bf6c-531a94f53d6c",
   "metadata": {},
   "outputs": [],
   "source": [
    "arr1 = np.array([0,4938,48,5484,384,9584,83, 0 ,0 ,0])"
   ]
  },
  {
   "cell_type": "code",
   "execution_count": 9,
   "id": "f9e51791-3ce0-4f5b-9245-7452c732647f",
   "metadata": {},
   "outputs": [
    {
     "data": {
      "text/plain": [
       "6"
      ]
     },
     "execution_count": 9,
     "metadata": {},
     "output_type": "execute_result"
    }
   ],
   "source": [
    "np.count_nonzero(arr1) # It counts non-zero data."
   ]
  },
  {
   "cell_type": "code",
   "execution_count": 10,
   "id": "9cecdc5c-0f50-41e5-a3c7-0adf9bf0cff5",
   "metadata": {},
   "outputs": [
    {
     "data": {
      "text/plain": [
       "array([ 4,  3, 34,  5,  4,  3,  3,  5,  6, 89])"
      ]
     },
     "execution_count": 10,
     "metadata": {},
     "output_type": "execute_result"
    }
   ],
   "source": [
    "arr"
   ]
  },
  {
   "cell_type": "code",
   "execution_count": 11,
   "id": "e66db166-c8ed-4372-9346-5ac1b4cfef4b",
   "metadata": {},
   "outputs": [
    {
     "data": {
      "text/plain": [
       "(array([2, 9]),)"
      ]
     },
     "execution_count": 11,
     "metadata": {},
     "output_type": "execute_result"
    }
   ],
   "source": [
    "# Find the index of data which is greater than 6\n",
    "np.where(arr > 6)"
   ]
  },
  {
   "cell_type": "code",
   "execution_count": 13,
   "id": "b18b1472-a06e-475f-8b27-ecc5b69c4b55",
   "metadata": {},
   "outputs": [
    {
     "data": {
      "text/plain": [
       "array([ 4, 34,  5,  4,  5,  6, 89])"
      ]
     },
     "execution_count": 13,
     "metadata": {},
     "output_type": "execute_result"
    }
   ],
   "source": [
    "np.extract(arr>3 , arr) # To extract data "
   ]
  },
  {
   "cell_type": "markdown",
   "id": "1b3643d4-fdbb-4339-b0b0-78e17c91af13",
   "metadata": {},
   "source": [
    "# Numpy - Byte Swapping"
   ]
  },
  {
   "cell_type": "code",
   "execution_count": 15,
   "id": "6f8fef50-ac86-48e5-af4b-8c8aff7bbc34",
   "metadata": {},
   "outputs": [
    {
     "data": {
      "text/plain": [
       "array([ 288230376151711744,  216172782113783808, 2449958197289549824,\n",
       "        360287970189639680,  288230376151711744,  216172782113783808,\n",
       "        216172782113783808,  360287970189639680,  432345564227567616,\n",
       "       6413125869375586304])"
      ]
     },
     "execution_count": 15,
     "metadata": {},
     "output_type": "execute_result"
    }
   ],
   "source": [
    "arr.byteswap() # To convert into bytes"
   ]
  },
  {
   "cell_type": "markdown",
   "id": "c15b49a6-541d-43d8-b4fe-4dd1647233c2",
   "metadata": {},
   "source": [
    "# Numpy - Copies & Views."
   ]
  },
  {
   "cell_type": "code",
   "execution_count": 16,
   "id": "7138c494-99f7-49a3-adf6-811a1418abc0",
   "metadata": {},
   "outputs": [
    {
     "data": {
      "text/plain": [
       "array([ 4,  3, 34,  5,  4,  3,  3,  5,  6, 89])"
      ]
     },
     "execution_count": 16,
     "metadata": {},
     "output_type": "execute_result"
    }
   ],
   "source": [
    "arr"
   ]
  },
  {
   "cell_type": "code",
   "execution_count": 17,
   "id": "36b7df44-e0ba-4c25-9175-b462e6a66596",
   "metadata": {},
   "outputs": [],
   "source": [
    "a = np.copy(arr)  # data will copied into a but different locations. so, if we change any data in 'arr' then it will not affect 'a'."
   ]
  },
  {
   "cell_type": "code",
   "execution_count": 18,
   "id": "3e866f5a-87af-470f-9a56-933cd7e388d3",
   "metadata": {},
   "outputs": [
    {
     "data": {
      "text/plain": [
       "array([ 4,  3, 34,  5,  4,  3,  3,  5,  6, 89])"
      ]
     },
     "execution_count": 18,
     "metadata": {},
     "output_type": "execute_result"
    }
   ],
   "source": [
    "a"
   ]
  },
  {
   "cell_type": "code",
   "execution_count": 19,
   "id": "31a8c9ce-4b85-4e81-8e94-79d8fb7dcf63",
   "metadata": {},
   "outputs": [],
   "source": [
    "b = arr.view() # In this, It will affect, if we change any one of them."
   ]
  },
  {
   "cell_type": "code",
   "execution_count": 20,
   "id": "8791f091-3ae1-4a61-8502-cc998507c59a",
   "metadata": {},
   "outputs": [
    {
     "data": {
      "text/plain": [
       "array([ 4,  3, 34,  5,  4,  3,  3,  5,  6, 89])"
      ]
     },
     "execution_count": 20,
     "metadata": {},
     "output_type": "execute_result"
    }
   ],
   "source": [
    "b"
   ]
  },
  {
   "cell_type": "code",
   "execution_count": 22,
   "id": "cc8f3b3e-66e6-41b9-b3f1-adf1f7278950",
   "metadata": {},
   "outputs": [],
   "source": [
    "b[0] = 67"
   ]
  },
  {
   "cell_type": "code",
   "execution_count": 23,
   "id": "a0b2fdb8-c15a-45bf-aaaa-11ffbb3d5fcb",
   "metadata": {},
   "outputs": [
    {
     "data": {
      "text/plain": [
       "array([67,  3, 34,  5,  4,  3,  3,  5,  6, 89])"
      ]
     },
     "execution_count": 23,
     "metadata": {},
     "output_type": "execute_result"
    }
   ],
   "source": [
    "b"
   ]
  },
  {
   "cell_type": "code",
   "execution_count": 24,
   "id": "09bd5e2a-5c0e-4f40-9295-c528c7760ab4",
   "metadata": {},
   "outputs": [
    {
     "data": {
      "text/plain": [
       "array([67,  3, 34,  5,  4,  3,  3,  5,  6, 89])"
      ]
     },
     "execution_count": 24,
     "metadata": {},
     "output_type": "execute_result"
    }
   ],
   "source": [
    "arr"
   ]
  },
  {
   "cell_type": "markdown",
   "id": "443437d6-f25b-4bd9-9a73-ad138a324dc9",
   "metadata": {},
   "source": [
    "# Numpy - Matrix library."
   ]
  },
  {
   "cell_type": "code",
   "execution_count": 25,
   "id": "854d08c0-cc59-4bb2-b385-f1073e958b5c",
   "metadata": {},
   "outputs": [],
   "source": [
    "import numpy.matlib as nm"
   ]
  },
  {
   "cell_type": "code",
   "execution_count": 26,
   "id": "9798a984-e121-450d-95da-1b3e1ccb1fa7",
   "metadata": {},
   "outputs": [
    {
     "data": {
      "text/plain": [
       "matrix([[0., 0., 0., 0., 0.]])"
      ]
     },
     "execution_count": 26,
     "metadata": {},
     "output_type": "execute_result"
    }
   ],
   "source": [
    "nm.zeros(5) # Generate matrix "
   ]
  },
  {
   "cell_type": "code",
   "execution_count": 27,
   "id": "10cc0a67-40e4-4ad6-b155-4e4a1f128096",
   "metadata": {},
   "outputs": [
    {
     "data": {
      "text/plain": [
       "matrix([[1., 1., 1., 1.],\n",
       "        [1., 1., 1., 1.],\n",
       "        [1., 1., 1., 1.]])"
      ]
     },
     "execution_count": 27,
     "metadata": {},
     "output_type": "execute_result"
    }
   ],
   "source": [
    "nm.ones((3,4))"
   ]
  },
  {
   "cell_type": "code",
   "execution_count": 29,
   "id": "335f8337-8a23-4f3d-a322-aa920723c551",
   "metadata": {},
   "outputs": [
    {
     "data": {
      "text/plain": [
       "matrix([[1., 0., 0., 0., 0.],\n",
       "        [0., 1., 0., 0., 0.],\n",
       "        [0., 0., 1., 0., 0.],\n",
       "        [0., 0., 0., 1., 0.],\n",
       "        [0., 0., 0., 0., 1.]])"
      ]
     },
     "execution_count": 29,
     "metadata": {},
     "output_type": "execute_result"
    }
   ],
   "source": [
    "nm.eye(5)  # Identity matrix genereted"
   ]
  },
  {
   "cell_type": "markdown",
   "id": "542483d6-6104-47cb-af65-f3231c0f38d1",
   "metadata": {},
   "source": [
    "# Numpy - Linear Algebra"
   ]
  },
  {
   "cell_type": "code",
   "execution_count": 38,
   "id": "e167c645-75f6-493f-a8ed-171cb4f90692",
   "metadata": {},
   "outputs": [],
   "source": [
    "arr1 = np.random.randint([[2,4],[3,4]])"
   ]
  },
  {
   "cell_type": "code",
   "execution_count": 39,
   "id": "284a1ff6-82c9-4aa7-bdc9-bf496d0decb1",
   "metadata": {},
   "outputs": [],
   "source": [
    "arr2 = np.random.randint([[2,4],[3,4]])"
   ]
  },
  {
   "cell_type": "code",
   "execution_count": 40,
   "id": "8d06e6b0-4876-4b80-a639-8e9808c854f1",
   "metadata": {},
   "outputs": [
    {
     "data": {
      "text/plain": [
       "array([[0, 2],\n",
       "       [0, 0]])"
      ]
     },
     "execution_count": 40,
     "metadata": {},
     "output_type": "execute_result"
    }
   ],
   "source": [
    "np.dot(arr1,arr2) # Matrix multiplication"
   ]
  },
  {
   "cell_type": "code",
   "execution_count": 41,
   "id": "69d44aad-e805-4651-af75-10796a96a9b3",
   "metadata": {},
   "outputs": [
    {
     "data": {
      "text/plain": [
       "array([[0, 2],\n",
       "       [0, 0]])"
      ]
     },
     "execution_count": 41,
     "metadata": {},
     "output_type": "execute_result"
    }
   ],
   "source": [
    "arr1@arr2  # Matrix multiplication"
   ]
  },
  {
   "cell_type": "code",
   "execution_count": null,
   "id": "35a85def-a96e-4163-8d18-fbf238135d37",
   "metadata": {},
   "outputs": [],
   "source": []
  }
 ],
 "metadata": {
  "kernelspec": {
   "display_name": "Python 3 (ipykernel)",
   "language": "python",
   "name": "python3"
  },
  "language_info": {
   "codemirror_mode": {
    "name": "ipython",
    "version": 3
   },
   "file_extension": ".py",
   "mimetype": "text/x-python",
   "name": "python",
   "nbconvert_exporter": "python",
   "pygments_lexer": "ipython3",
   "version": "3.10.8"
  }
 },
 "nbformat": 4,
 "nbformat_minor": 5
}
